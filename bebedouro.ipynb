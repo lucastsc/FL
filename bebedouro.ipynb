{
 "cells": [
  {
   "cell_type": "code",
   "execution_count": 5,
   "metadata": {},
   "outputs": [
    {
     "name": "stdout",
     "output_type": "stream",
     "text": [
      "Bebedouro\n",
      "Pessoa 0 chegou ao bebedouro em 0.00\n",
      "Pessoa 1 chegou ao bebedouro em 0.00\n",
      "Pessoa 2 chegou ao bebedouro em 0.00\n",
      "Pessoa 3 chegou ao bebedouro em 0.00\n",
      "Pessoa 4 chegou ao bebedouro em 0.00\n",
      "Pessoa 0 começa a beber água em 0.00\n",
      "Pessoa 1 começa a beber água em 0.00\n",
      "Pessoa 2 começa a beber água em 0.00\n",
      "Pessoa 3 começa a beber água em 0.00\n",
      "Pessoa 4 começa a beber água em 0.00\n",
      "Pessoa 0 bebeu 5 segundos\n",
      "Pessoa 1 bebeu 5 segundos\n",
      "Pessoa 0 sai do bebedouro em 5.00\n",
      "Pessoa 1 sai do bebedouro em 5.00\n",
      "Pessoa 3 bebeu 8 segundos\n",
      "Pessoa 3 sai do bebedouro em 8.00\n",
      "Pessoa 5 chegou ao bebedouro em 10.00\n",
      "Pessoa 5 começa a beber água em 10.00\n",
      "Pessoa 4 bebeu 11 segundos\n",
      "Pessoa 4 sai do bebedouro em 11.00\n",
      "Pessoa 2 bebeu 13 segundos\n",
      "Pessoa 2 sai do bebedouro em 13.00\n"
     ]
    }
   ],
   "source": [
    "import simpy\n",
    "import random\n",
    "import itertools\n",
    "\n",
    "'''\n",
    "Uso de um bebedouro:\n",
    "Um bebedouro tem capacidade 2 por vez\n",
    "A cada 10 segundos vem uma pessoa para beber água\n",
    "A pessoa costuma beber entre 3 a 15 segundos de água\n",
    "Tempo de simulação: 20 segundos\n",
    "'''\n",
    "\n",
    "class Bebedouro:\n",
    "    def __init__(self, env, capacidade, ocupacao) -> None:\n",
    "        self.env = env\n",
    "        self.capacidade = simpy.Resource(env,capacidade)\n",
    "        self.ocupacao = ocupacao\n",
    "\n",
    "    def fornece_agua(self,nome):\n",
    "        ocupacao = random.randint(*self.ocupacao)\n",
    "        yield self.env.timeout(ocupacao)\n",
    "        print(f'{nome} bebeu {ocupacao} segundos')\n",
    "\n",
    "def pessoa(env, nome, bebedouro):\n",
    "    print(f'{nome} chegou ao bebedouro em {env.now:.2f}')\n",
    "    with bebedouro.capacidade.request() as request:\n",
    "        yield request\n",
    "\n",
    "        print(f'{nome} começa a beber água em {env.now:.2f}')\n",
    "        yield env.process(bebedouro.fornece_agua(nome))\n",
    "\n",
    "        print(f'{nome} sai do bebedouro em {env.now:.2f}')\n",
    "\n",
    "def setup(env, capacidade,ocupacao, t_inter):\n",
    "    bebedouro = Bebedouro(env, capacidade=capacidade, ocupacao=ocupacao)\n",
    "\n",
    "    conta_pessoas = itertools.count()\n",
    "\n",
    "    for _ in range(5):\n",
    "        env.process(pessoa(env,f'Pessoa {next(conta_pessoas)}', bebedouro))\n",
    "\n",
    "    while True:\n",
    "        yield env.timeout(random.randint(t_inter - 2, t_inter + 2))\n",
    "        env.process(pessoa(env,f'Pessoa {next(conta_pessoas)}', bebedouro))\n",
    "\n",
    "print('Bebedouro')\n",
    "CAPACIDADE = 5\n",
    "T_INTER = 10\n",
    "OCUPACAO = [3,15]\n",
    "SIM_TIME = 20\n",
    "\n",
    "env = simpy.Environment()\n",
    "env.process(setup(env, capacidade=CAPACIDADE, ocupacao=OCUPACAO,t_inter=T_INTER))\n",
    "env.run(until=SIM_TIME)\n"
   ]
  }
 ],
 "metadata": {
  "kernelspec": {
   "display_name": "fedenv",
   "language": "python",
   "name": "python3"
  },
  "language_info": {
   "codemirror_mode": {
    "name": "ipython",
    "version": 3
   },
   "file_extension": ".py",
   "mimetype": "text/x-python",
   "name": "python",
   "nbconvert_exporter": "python",
   "pygments_lexer": "ipython3",
   "version": "3.11.0"
  }
 },
 "nbformat": 4,
 "nbformat_minor": 2
}
