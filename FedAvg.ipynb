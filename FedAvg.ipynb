{
 "cells": [
  {
   "cell_type": "code",
   "execution_count": 1,
   "metadata": {},
   "outputs": [],
   "source": [
    "import random\n",
    "from tensorflow.keras.models import Sequential\n",
    "from tensorflow.keras.layers import Dense\n",
    "from keras.datasets import mnist\n",
    "from tensorflow.keras.utils import to_categorical\n",
    "import numpy as np\n",
    "import matplotlib.pyplot as plt\n",
    "import threading"
   ]
  },
  {
   "cell_type": "code",
   "execution_count": 19,
   "metadata": {},
   "outputs": [],
   "source": [
    "ROUNDS = 20\n",
    "PROBFAIL = 0.1\n",
    "NCLIENTS = 50\n",
    "MAX_CHAOTIC_ENTRIES = 20\n",
    "TEST_SIZE = 1000\n",
    "\n",
    "# Separação dos dados em treinamento e teste\n",
    "(X_train, y_train), (X_test, y_test) = mnist.load_data()\n",
    "\n",
    "# Pré-processamento dos dados. Imagens 28 x 28. Valores de pixels normalizados (0<=p<=1).\n",
    "X_train = X_train.reshape((60000, 28 * 28))\n",
    "X_train = X_train.astype('float32') / 255\n",
    "\n",
    "X_test = X_test.reshape((10000, 28 * 28))\n",
    "X_test = X_test.astype('float32') / 255\n",
    "\n",
    "y_train = to_categorical(y_train)  # Convertendo rótulos para one-hot encoding\n",
    "y_test = to_categorical(y_test)    # Convertendo rótulos para one-hot encoding\n",
    "\n",
    "# Inicialização do modelo centralizado\n",
    "model_centralized = Sequential()\n",
    "model_centralized.add(Dense(units=32, activation='relu', input_dim=784))\n",
    "model_centralized.add(Dense(units=10, activation='softmax'))\n",
    "\n",
    "# Inicialização do modelo federado\n",
    "model = Sequential()\n",
    "model.add(Dense(units=32, activation='relu', input_dim=784))\n",
    "model.add(Dense(units=10, activation='softmax'))\n"
   ]
  },
  {
   "cell_type": "code",
   "execution_count": 3,
   "metadata": {},
   "outputs": [],
   "source": [
    "# model_centralized.compile(optimizer='adam', loss='categorical_crossentropy', metrics=['accuracy'])\n",
    "# history = model_centralized.fit(X_train,y_train, epochs=5,batch_size=32, verbose=1,validation_data=(X_test, y_test))\n",
    "\n",
    "# train_acc = history.history['accuracy']\n",
    "# val_acc = history.history['val_accuracy']\n",
    "# train_loss = history.history['loss']\n",
    "# val_loss = history.history['val_loss']\n",
    "\n",
    "# fig, axs = plt.subplots(1,2, figsize=(12,4))\n",
    "# line_labels = ['Train', 'Validation']\n",
    "\n",
    "# axs[0].title.set_text(f'Centralized Training')\n",
    "# axs[0].set_xlabel('Epochs')\n",
    "# axs[0].set_ylabel('Accuracy')\n",
    "# l1 = axs[0].plot(train_acc, color='blue')[0]\n",
    "# l2 = axs[0].plot(val_acc, color='green')[0]\n",
    "\n",
    "# axs[1].title.set_text(f'Centralized Training')\n",
    "# axs[1].set_xlabel('Epochs')\n",
    "# axs[1].set_ylabel('Loss')\n",
    "# l1 = axs[1].plot(train_loss, color='blue')[0]\n",
    "# l2 = axs[1].plot(val_loss, color='green')[0]\n",
    "\n",
    "# # Create the legend\n",
    "# fig.legend([l1, l2],     # The line objects\n",
    "#            labels=line_labels,   # The labels for each line\n",
    "#            loc=\"center right\",   # Position of legend\n",
    "#            borderaxespad=0.1,    # Small spacing around legend box\n",
    "#            title=\"Legend Title\"  # Title for the legend\n",
    "#            )"
   ]
  },
  {
   "cell_type": "code",
   "execution_count": 20,
   "metadata": {},
   "outputs": [
    {
     "name": "stdout",
     "output_type": "stream",
     "text": [
      "Round 0. GLOBAL ACC: 0.4309999942779541\n",
      "Round 1. GLOBAL ACC: 0.6140000224113464\n",
      "Round 2. GLOBAL ACC: 0.7450000047683716\n",
      "Round 3. GLOBAL ACC: 0.7940000295639038\n",
      "Round 4. GLOBAL ACC: 0.8100000023841858\n",
      "Round 5. GLOBAL ACC: 0.8149999976158142\n",
      "Round 6. GLOBAL ACC: 0.8460000157356262\n",
      "Round 7. GLOBAL ACC: 0.8330000042915344\n",
      "Round 8. GLOBAL ACC: 0.8410000205039978\n",
      "Round 9. GLOBAL ACC: 0.8399999737739563\n",
      "Round 10. GLOBAL ACC: 0.8489999771118164\n",
      "Round 11. GLOBAL ACC: 0.8489999771118164\n",
      "Round 12. GLOBAL ACC: 0.843999981880188\n",
      "Round 13. GLOBAL ACC: 0.8500000238418579\n",
      "Round 14. GLOBAL ACC: 0.8560000061988831\n",
      "Round 15. GLOBAL ACC: 0.8519999980926514\n",
      "Round 16. GLOBAL ACC: 0.8500000238418579\n",
      "Round 17. GLOBAL ACC: 0.8479999899864197\n",
      "Round 18. GLOBAL ACC: 0.8650000095367432\n",
      "Round 19. GLOBAL ACC: 0.8640000224113464\n"
     ]
    }
   ],
   "source": [
    "class Server:\n",
    "    def __init__(self,global_model) -> None:\n",
    "        self.global_model = global_model\n",
    "\n",
    "class Client:\n",
    "    def __init__(self, model = None) -> None:\n",
    "        self.model = model\n",
    "\n",
    "    def update(self,Xi,yi):\n",
    "        self.weight = len(Xi)\n",
    "        self.model.compile(optimizer='adam', loss='categorical_crossentropy', metrics=['accuracy'])\n",
    "        self.model.fit(Xi, yi, epochs=1, batch_size=32, verbose=0)\n",
    "\n",
    "# Inicialização do servidor\n",
    "s = Server(model)\n",
    "\n",
    "# Inicialização dos clientes\n",
    "clients = {}\n",
    "for n in range(NCLIENTS):\n",
    "    clients[f\"c{n}\"] = Client()\n",
    "\n",
    "rounds = []\n",
    "global_accuracies = []\n",
    "global_losses = []\n",
    "threads = []\n",
    "for round in range(ROUNDS):\n",
    "    active_clients_list = [v for k,v in clients.items() if PROBFAIL <= random.uniform(0, 1)]\n",
    "\n",
    "    try:\n",
    "        for i,client in enumerate(active_clients_list):\n",
    "            client.model = s.global_model\n",
    "\n",
    "            # Considerando os 60.000 dados de treino, selecionar até MAX_CHAOTIC_ENTRIES aleatoriamente para treinamento de cada cliente\n",
    "            samples = random.sample(range(1, len(X_train)), random.randint(1, MAX_CHAOTIC_ENTRIES))\n",
    "            Xi = X_train[samples]\n",
    "            yi = y_train[samples]\n",
    "\n",
    "            thread = threading.Thread(target=client.update(Xi,yi), args=(i+1,))\n",
    "            threads.append(thread)\n",
    "            thread.start()\n",
    "\n",
    "        # Esperando todos os threads terminarem antes de prosseguir\n",
    "        for thread in threads:\n",
    "            thread.join()\n",
    "        \n",
    "        clients_weights = [client.weight for client in active_clients_list]\n",
    "        clients_weights_norm = np.array(clients_weights) / np.sum(clients_weights)\n",
    "\n",
    "        # Formato:[[c0w0,c0w1,c0w2,c0w3],[c1w0,c1w1,c1w2,c1w3],[c2w0,...],...]. Para cada camada são 2 tipos de pesos considerados: weights e biases.\n",
    "        wbs = [[active_client.model.get_weights()[i] * wgs_norm for i in range(len(2*client.model.layers))] for active_client,wgs_norm in zip(active_clients_list,clients_weights_norm)]\n",
    "\n",
    "        # [sum(c0w0,c1w0,...cnw0),sum(c0w1,c1w1,...cnw1),...,sum(c0wm,c1wm,...cnwm)]. Mantém a ordem: pesos,biases,pesos,biases,...\n",
    "        weights = [np.sum(z,axis=0) for z in zip(*wbs)]\n",
    "\n",
    "        s.global_model.set_weights(weights)\n",
    "\n",
    "        # Acurácia e perda globais (modelo agregado).\n",
    "        loss, acc = s.global_model.evaluate(X_test[:TEST_SIZE], y_test[:TEST_SIZE], verbose=0)\n",
    "        print(f\"Round {round}. GLOBAL ACC: {acc}\")\n",
    "\n",
    "        rounds.append(round)\n",
    "        global_losses.append(loss)\n",
    "        global_accuracies.append(acc)\n",
    "\n",
    "    except Exception as e:\n",
    "        # Se não houver clientes ativos na rodada, o desempenho de loss e acc deve ser igual ao último desempenho obtido\n",
    "        print(e)\n",
    "        print(\"All clients disconnected.Waiting connection...\")\n",
    "        rounds.append(round)\n",
    "\n",
    "        if round == 0:\n",
    "            global_losses.append(0)\n",
    "            global_accuracies.append(0)\n",
    "        else:\n",
    "            previous_loss = global_losses[-1]\n",
    "            previous_accuracy = global_accuracies[-1]\n",
    "\n",
    "            global_losses.append(previous_loss)\n",
    "            global_accuracies.append(previous_accuracy)\n",
    "        continue"
   ]
  },
  {
   "cell_type": "code",
   "execution_count": 21,
   "metadata": {},
   "outputs": [
    {
     "data": {
      "text/plain": [
       "[<matplotlib.lines.Line2D at 0x1f122e8a510>]"
      ]
     },
     "execution_count": 21,
     "metadata": {},
     "output_type": "execute_result"
    },
    {
     "data": {
      "image/png": "[encoded data removed]",
      "text/plain": [
       "<Figure size 640x480 with 1 Axes>"
      ]
     },
     "metadata": {},
     "output_type": "display_data"
    }
   ],
   "source": [
    "plt.plot(rounds,global_accuracies)"
   ]
  }
 ],
 "metadata": {
  "kernelspec": {
   "display_name": "fedenv",
   "language": "python",
   "name": "python3"
  },
  "language_info": {
   "codemirror_mode": {
    "name": "ipython",
    "version": 3
   },
   "file_extension": ".py",
   "mimetype": "text/x-python",
   "name": "python",
   "nbconvert_exporter": "python",
   "pygments_lexer": "ipython3",
   "version": "3.11.0"
  }
 },
 "nbformat": 4,
 "nbformat_minor": 2
}
