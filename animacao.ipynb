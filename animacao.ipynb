{
 "cells": [
  {
   "cell_type": "code",
   "execution_count": null,
   "metadata": {},
   "outputs": [],
   "source": [
    "import matplotlib.pyplot as plt\n",
    "import matplotlib.animation as animation\n",
    "import numpy as np\n",
    "%matplotlib ipympl\n",
    "\n",
    "# Configuração do ambiente\n",
    "space_size = 100  # Tamanho do espaço (100m x 100m)\n",
    "num_particles = 50  # Número de partículas\n",
    "\n",
    "# Inicialização das posições das partículas aleatoriamente\n",
    "particles = np.random.rand(num_particles, 2) * space_size\n",
    "\n",
    "# Função para atualizar a posição das partículas\n",
    "def update(frame):\n",
    "    global particles\n",
    "    # Atualiza a posição das partículas adicionando um pequeno valor aleatório\n",
    "    particles += np.random.randn(num_particles, 2)\n",
    "    particles = np.clip(particles, 0, space_size)  # Limita as partículas ao espaço\n",
    "\n",
    "    # Limpa o gráfico e desenha as novas posições das partículas\n",
    "    plt.clf()\n",
    "    plt.scatter(particles[:, 0], particles[:, 1])\n",
    "    plt.xlim(0, space_size)\n",
    "    plt.ylim(0, space_size)\n",
    "    plt.title('Movimento de Partículas em Tempo Real')\n",
    "\n",
    "# Configuração da animação\n",
    "fig = plt.figure()\n",
    "ani = animation.FuncAnimation(fig, update, interval=50)  # Atualiza a cada 50ms\n",
    "\n",
    "plt.show()\n"
   ]
  }
 ],
 "metadata": {
  "kernelspec": {
   "display_name": "fedenv",
   "language": "python",
   "name": "python3"
  },
  "language_info": {
   "codemirror_mode": {
    "name": "ipython",
    "version": 3
   },
   "file_extension": ".py",
   "mimetype": "text/x-python",
   "name": "python",
   "nbconvert_exporter": "python",
   "pygments_lexer": "ipython3",
   "version": "3.11.0"
  }
 },
 "nbformat": 4,
 "nbformat_minor": 2
}
