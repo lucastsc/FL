{
 "cells": [
  {
   "cell_type": "code",
   "execution_count": 1,
   "metadata": {},
   "outputs": [
    {
     "name": "stdout",
     "output_type": "stream",
     "text": [
      "Pessoa 0 entrou no chuveiro em 15.78 segundos\n",
      "Pessoa 1 entrou no chuveiro em 19.08 segundos\n",
      "Pessoa 0 deixou cair o sabão!\n",
      "Pessoa 0 pegou o sabão e retomou o banho em 396.71 segundos\n",
      "Pessoa 1 terminou o banho em 422.58 segundos\n",
      "Pessoa 1 saiu do chuveiro em 422.58 segundos\n",
      "Pessoa 2 entrou no chuveiro em 422.58 segundos\n",
      "Pessoa 0 saiu do chuveiro em 757.9 segundos\n",
      "Pessoa 4 entrou no chuveiro em 757.9 segundos\n",
      "Pessoa 2 terminou o banho em 833.42 segundos\n",
      "Pessoa 2 saiu do chuveiro em 833.42 segundos\n",
      "Pessoa 3 entrou no chuveiro em 833.42 segundos\n",
      "Pessoa 4 deixou cair o sabão!\n",
      "Pessoa 4 pegou o sabão e retomou o banho em 1139.65 segundos\n",
      "Pessoa 3 deixou cair o sabão!\n",
      "Pessoa 3 pegou o sabão e retomou o banho em 1162.17 segundos\n",
      "Pessoa 3 saiu do chuveiro em 1478.02 segundos\n",
      "Pessoa 4 saiu do chuveiro em 1505.67 segundos\n"
     ]
    }
   ],
   "source": [
    "import simpy\n",
    "import random\n",
    "\n",
    "class Banheiro:\n",
    "    def __init__(self, env, num_chuveiros):\n",
    "        self.env = env\n",
    "        self.chuveiros = simpy.Resource(env, capacity=num_chuveiros)\n",
    "\n",
    "class Pessoa:\n",
    "    def __init__(self, env, nome, banheiro):\n",
    "        self.env = env\n",
    "        self.nome = nome\n",
    "        self.banheiro = banheiro\n",
    "        self.temp_chegada = random.uniform(10, 30)  # Tempo para chegar ao chuveiro\n",
    "        self.temp_banho = random.uniform(300, 420)  # Tempo de banho\n",
    "        self.temp_sabao = random.uniform(5, 10)  # Tempo para pegar o sabão\n",
    "\n",
    "    def tomar_banho(self):\n",
    "        yield self.env.timeout(self.temp_chegada)\n",
    "        \n",
    "        with self.banheiro.chuveiros.request() as req:\n",
    "            yield req\n",
    "            \n",
    "            print(f'{self.nome} entrou no chuveiro em {round(self.env.now, 2)} segundos')\n",
    "            yield self.env.timeout(self.temp_banho)\n",
    "            \n",
    "            # Verifica se o sabão escorreu\n",
    "            if random.choice([True, False]):\n",
    "                print(f'{self.nome} deixou cair o sabão!')\n",
    "                yield self.env.timeout(self.temp_sabao)\n",
    "                print(f'{self.nome} pegou o sabão e retomou o banho em {round(self.env.now, 2)} segundos')\n",
    "                yield self.env.timeout(self.temp_banho - self.temp_sabao)\n",
    "            else:\n",
    "                print(f'{self.nome} terminou o banho em {round(self.env.now, 2)} segundos')\n",
    "\n",
    "            print(f'{self.nome} saiu do chuveiro em {round(self.env.now, 2)} segundos')\n",
    "\n",
    "def executar_simulacao(env, num_chuveiros, num_pessoas):\n",
    "    banheiro = Banheiro(env, num_chuveiros)\n",
    "    pessoas = [Pessoa(env, f'Pessoa {i}', banheiro) for i in range(num_pessoas)]\n",
    "    \n",
    "    for pessoa in pessoas:\n",
    "        env.process(pessoa.tomar_banho())\n",
    "\n",
    "    env.run()\n",
    "\n",
    "# Configuração da simulação\n",
    "env = simpy.Environment()\n",
    "num_chuveiros = 2\n",
    "num_pessoas = 5\n",
    "\n",
    "# Execução da simulação\n",
    "executar_simulacao(env, num_chuveiros, num_pessoas)\n"
   ]
  }
 ],
 "metadata": {
  "kernelspec": {
   "display_name": "fedenv",
   "language": "python",
   "name": "python3"
  },
  "language_info": {
   "codemirror_mode": {
    "name": "ipython",
    "version": 3
   },
   "file_extension": ".py",
   "mimetype": "text/x-python",
   "name": "python",
   "nbconvert_exporter": "python",
   "pygments_lexer": "ipython3",
   "version": "3.11.0"
  }
 },
 "nbformat": 4,
 "nbformat_minor": 2
}
