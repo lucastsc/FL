{
 "cells": [
  {
   "cell_type": "markdown",
   "metadata": {},
   "source": [
    "The Best"
   ]
  },
  {
   "cell_type": "code",
   "execution_count": 2,
   "metadata": {},
   "outputs": [
    {
     "name": "stdout",
     "output_type": "stream",
     "text": [
      "------Round 0------\n",
      "4/4 [==============================] - 1s 419us/step - loss: 2.2990 - accuracy: 0.0800\n",
      "4/4 [==============================] - 1s 7ms/step - loss: 2.1060 - accuracy: 0.2400\n",
      "4/4 [==============================] - 1s 3ms/step - loss: 2.0041 - accuracy: 0.3700\n",
      "4/4 [==============================] - 1s 0s/step - loss: 1.7633 - accuracy: 0.5700\n",
      "------Round 1------\n",
      "4/4 [==============================] - 1s 0s/step - loss: 1.6800 - accuracy: 0.6100\n",
      "4/4 [==============================] - 1s 0s/step - loss: 1.5832 - accuracy: 0.6400\n",
      "4/4 [==============================] - 1s 4ms/step - loss: 1.4207 - accuracy: 0.7500\n",
      "4/4 [==============================] - 1s 426us/step - loss: 1.2517 - accuracy: 0.7600\n",
      "------Round 2------\n",
      "4/4 [==============================] - 1s 0s/step - loss: 1.1868 - accuracy: 0.8000\n",
      "4/4 [==============================] - 1s 8ms/step - loss: 1.1263 - accuracy: 0.8000\n",
      "4/4 [==============================] - 1s 6ms/step - loss: 1.0146 - accuracy: 0.8200\n",
      "4/4 [==============================] - 1s 0s/step - loss: 0.8821 - accuracy: 0.8800\n",
      "------Round 3------\n",
      "4/4 [==============================] - 1s 6ms/step - loss: 0.8711 - accuracy: 0.8600\n",
      "4/4 [==============================] - 1s 5ms/step - loss: 0.8313 - accuracy: 0.8000\n",
      "4/4 [==============================] - 1s 4ms/step - loss: 0.7340 - accuracy: 0.8300\n",
      "4/4 [==============================] - 1s 0s/step - loss: 0.6564 - accuracy: 0.9000\n",
      "------Round 4------\n",
      "4/4 [==============================] - 1s 6ms/step - loss: 0.6516 - accuracy: 0.9000\n",
      "4/4 [==============================] - 1s 4ms/step - loss: 0.6248 - accuracy: 0.8400\n",
      "4/4 [==============================] - 1s 3ms/step - loss: 0.5708 - accuracy: 0.8400\n",
      "4/4 [==============================] - 1s 316us/step - loss: 0.4996 - accuracy: 0.9300\n"
     ]
    },
    {
     "data": {
      "text/plain": [
       "[<matplotlib.lines.Line2D at 0x2b945bbc790>]"
      ]
     },
     "execution_count": 2,
     "metadata": {},
     "output_type": "execute_result"
    },
    {
     "data": {
      "image/png": "[encoded data removed]",
      "text/plain": [
       "<Figure size 640x480 with 2 Axes>"
      ]
     },
     "metadata": {},
     "output_type": "display_data"
    }
   ],
   "source": [
    "from keras.datasets import mnist\n",
    "import matplotlib.pyplot as plt\n",
    "from sklearn.neural_network import MLPClassifier\n",
    "from sklearn.metrics import accuracy_score\n",
    "import numpy as np\n",
    "from sklearn.model_selection import train_test_split\n",
    "import random\n",
    "from tensorflow.keras.utils import to_categorical\n",
    "import tensorflow as tf\n",
    "from tensorflow.keras.models import Sequential\n",
    "from tensorflow.keras.layers import Dense\n",
    "\n",
    "class Client:\n",
    "\n",
    "    def __init__(self, model = None) -> None:\n",
    "        self.model = model\n",
    "\n",
    "    def trainLocal(self,Xi,yi):\n",
    "\n",
    "        self.client_weight = len(Xi)\n",
    "\n",
    "        # Compilando o modelo e definindo os pesos iniciais\n",
    "        self.model.compile(optimizer='adam', loss='categorical_crossentropy', metrics=['accuracy'])\n",
    "        # initial_weights = ... # Define os pesos iniciais desejados\n",
    "        # self.model.set_weights(initial_weights)\n",
    "\n",
    "        # Treinando o modelo\n",
    "        self.model.fit(Xi, yi, epochs=1, batch_size=32)\n",
    "\n",
    "    def receiveModel(self,new_model):\n",
    "        self.model = new_model\n",
    "\n",
    "class Server:\n",
    "\n",
    "    def __init__(self, model = None) -> None:\n",
    "        self.model = model\n",
    "\n",
    "    def aggregate(self, clients):\n",
    "\n",
    "        clients_wgs = [client.client_weight for client in clients]\n",
    "        clients_wgs_norm = np.array(clients_wgs) / np.sum(clients_wgs)\n",
    "\n",
    "        # wgs_1 = [client.model.get_weights()[0] * wgs_norm for client,wgs_norm in zip(clients,clients_wgs_norm)] # layer 1\n",
    "        # bss_1 = [client.model.get_weights()[1] * wgs_norm for client,wgs_norm in zip(clients,clients_wgs_norm)] # layer 1\n",
    "        # wgs_2 = [client.model.get_weights()[2] * wgs_norm for client,wgs_norm in zip(clients,clients_wgs_norm)] # layer 2\n",
    "        # bss_2 = [client.model.get_weights()[3] * wgs_norm for client,wgs_norm in zip(clients,clients_wgs_norm)] # layer 2\n",
    "\n",
    "        # weights = [np.sum(wgs_1,axis=0),np.sum(bss_1,axis=0),np.sum(wgs_2,axis=0),np.sum(bss_2,axis=0)]\n",
    "\n",
    "        # [[c0w0,c0w1,c0w2,c0w3],[c1w0,c1w1,c1w2,c1w3],[c2w0,...],...]. For each layer 2 weights: weights and biases\n",
    "        wbs = [[client.model.get_weights()[i] * wgs_norm for i in range(len(2*client.model.layers))] for client,wgs_norm in zip(clients,clients_wgs_norm)]\n",
    "        weights = [np.sum(z,axis=0) for z in zip(*wbs)]\n",
    "\n",
    "        self.model.set_weights(weights)\n",
    "\n",
    "        return self.model\n",
    "\n",
    "    def sendModel(self,clients_list, new_model):\n",
    "        for client in clients_list:\n",
    "            client.receiveModel(new_model)\n",
    "\n",
    "(X_train, y_train), (X_test, y_test) = mnist.load_data()\n",
    "\n",
    "# Pré-processamento dos dados\n",
    "X_train = X_train.reshape((60000, 28 * 28))\n",
    "X_train = X_train.astype('float32') / 255\n",
    "\n",
    "X_test = X_test.reshape((10000, 28 * 28))\n",
    "X_test = X_test.astype('float32') / 255\n",
    "\n",
    "y_train = to_categorical(y_train)  # Convertendo rótulos para one-hot encoding\n",
    "y_test = to_categorical(y_test)    # Convertendo rótulos para one-hot encoding\n",
    "\n",
    "model = Sequential()\n",
    "model.add(Dense(units=32, activation='relu', input_dim=784))\n",
    "# model.add(Dense(units=64, activation='relu'))\n",
    "# model.add(Dense(units=128, activation='relu'))\n",
    "# model.add(Dense(units=64, activation='relu'))\n",
    "# model.add(Dense(units=32, activation='relu'))\n",
    "model.add(Dense(units=10, activation='softmax'))\n",
    "\n",
    "# clients and server initialization\n",
    "\n",
    "c1 = Client()\n",
    "c2 = Client()\n",
    "c3 = Client()\n",
    "c4 = Client()\n",
    "s = Server(model)\n",
    "\n",
    "clients_list = [c1,c2,c3,c4]\n",
    "\n",
    "# server sends the model to the clients - model sync\n",
    "s.sendModel(clients_list,s.model)\n",
    "\n",
    "rounds = []\n",
    "accuracies = []\n",
    "losses = []\n",
    "for round in range(5):\n",
    "\n",
    "    print(f\"------Round {round}------\")\n",
    "\n",
    "    # with tf.device('/GPU:0'):\n",
    "    # clients trains the model locally\n",
    "    c1.trainLocal(X_train[:100],y_train[:100])\n",
    "    c2.trainLocal(X_train[100:200],y_train[100:200])\n",
    "    c3.trainLocal(X_train[200:300],y_train[200:300])\n",
    "    c4.trainLocal(X_train[300:400],y_train[300:400])\n",
    "\n",
    "    # clients sends back each model to the server - upload - and the server aggregates the models\n",
    "    global_model = s.aggregate(clients_list) \n",
    "\n",
    "    # server sends back global model to each client - model sync\n",
    "    s.sendModel(clients_list,global_model)\n",
    "\n",
    "    # accuracy = accuracy_score(y_test[:10], global_model.predict(X_test[:10])) # Test Accuracy\n",
    "    loss, acc = global_model.evaluate(X_test[:100], y_test[:100], verbose=0)\n",
    "\n",
    "    rounds.append(round)\n",
    "    losses.append(loss)\n",
    "    accuracies.append(acc)\n",
    "\n",
    "fig, axs = plt.subplots(1,2)\n",
    "\n",
    "axs[0].title.set_text('Rounds x Accuracies')\n",
    "axs[0].plot(rounds,accuracies)\n",
    "\n",
    "axs[1].title.set_text('Rounds x Losses')\n",
    "axs[1].plot(rounds,losses)\n",
    "\n"
   ]
  },
  {
   "cell_type": "code",
   "execution_count": 2,
   "metadata": {},
   "outputs": [
    {
     "data": {
      "text/plain": [
       "[array([[ 0.02785119, -0.08219455,  0.06479392, ..., -0.08147128,\n",
       "          0.05542267,  0.06256872],\n",
       "        [-0.06699853,  0.08243904, -0.0160462 , ...,  0.06649793,\n",
       "          0.03744928, -0.0379297 ],\n",
       "        [ 0.01545348, -0.05341031, -0.07135535, ..., -0.00568341,\n",
       "         -0.05934948,  0.04784179],\n",
       "        ...,\n",
       "        [-0.06351814, -0.05416472, -0.00346957, ...,  0.02417977,\n",
       "          0.05878209, -0.01028312],\n",
       "        [-0.07754216,  0.00220662, -0.02537899, ...,  0.04321098,\n",
       "         -0.0744891 ,  0.00395099],\n",
       "        [ 0.05490423,  0.06019986,  0.04900538, ...,  0.05099162,\n",
       "         -0.01076896, -0.03968911]], dtype=float32),\n",
       " array([0., 0., 0., 0., 0., 0., 0., 0., 0., 0., 0., 0., 0., 0., 0., 0., 0.,\n",
       "        0., 0., 0., 0., 0., 0., 0., 0., 0., 0., 0., 0., 0., 0., 0.],\n",
       "       dtype=float32),\n",
       " array([[ 0.08983973,  0.34192887, -0.06328103, -0.33576736,  0.28255138,\n",
       "         -0.12287065, -0.20470484, -0.2244165 , -0.20330031, -0.35616443],\n",
       "        [ 0.10175446, -0.19161645,  0.2919607 ,  0.15518418, -0.3166955 ,\n",
       "          0.25509736, -0.30641723,  0.01835105, -0.01996389, -0.2077987 ],\n",
       "        [-0.0194909 ,  0.0992021 ,  0.18122432,  0.22224054, -0.15237045,\n",
       "          0.14611396, -0.04055038,  0.07129845, -0.27061313, -0.3562057 ],\n",
       "        [ 0.0123364 , -0.2378102 ,  0.02221972, -0.23627266, -0.30639786,\n",
       "          0.06681105, -0.01278687,  0.2908332 , -0.31598514,  0.11245844],\n",
       "        [-0.1384943 ,  0.01546758, -0.1735964 ,  0.09937528,  0.16962013,\n",
       "          0.22386923, -0.23472334,  0.08075219,  0.01483741,  0.13278928],\n",
       "        [ 0.23755023, -0.15834257,  0.24084231, -0.0598605 , -0.10767612,\n",
       "         -0.0240657 , -0.16287655, -0.36589843,  0.33184806,  0.13705024],\n",
       "        [-0.01043877,  0.29983422, -0.06403312, -0.09752643,  0.3586922 ,\n",
       "          0.01206541,  0.2969096 ,  0.19786873,  0.3733996 ,  0.22203901],\n",
       "        [ 0.31513825,  0.20357767,  0.10459882,  0.29934952,  0.03353566,\n",
       "          0.03644028, -0.01798013, -0.15558977,  0.14080551, -0.05087319],\n",
       "        [ 0.31294027,  0.14271298,  0.02433115, -0.3400083 , -0.1561609 ,\n",
       "          0.08876061, -0.0799973 , -0.24629755, -0.1639107 , -0.01607981],\n",
       "        [ 0.30686298,  0.11817202,  0.00337297, -0.18985075, -0.26729396,\n",
       "          0.1706008 ,  0.03967601,  0.25969276,  0.07063881,  0.27167532],\n",
       "        [-0.35860145,  0.07414046,  0.36692968, -0.13891557,  0.32964352,\n",
       "         -0.26025915, -0.11593476,  0.09916794, -0.2948595 ,  0.04538769],\n",
       "        [ 0.07141146, -0.11882094,  0.20791516,  0.3512846 , -0.07332149,\n",
       "          0.1581699 ,  0.34422156,  0.00483865, -0.25134438,  0.3035806 ],\n",
       "        [-0.27576584, -0.35291672, -0.35752532, -0.35760373,  0.18760541,\n",
       "         -0.19255137, -0.140536  , -0.2941137 ,  0.24377456,  0.29343018],\n",
       "        [-0.00662047, -0.12903677,  0.28117934, -0.27346098,  0.04587033,\n",
       "         -0.20184733,  0.37463132, -0.31524414,  0.10802171, -0.06149724],\n",
       "        [ 0.21264747, -0.33647275, -0.07875961,  0.26688865, -0.08229223,\n",
       "          0.22632816,  0.09530404, -0.20941706, -0.02051431, -0.12154803],\n",
       "        [-0.14456525,  0.35143527, -0.2768591 ,  0.36734924, -0.00433043,\n",
       "          0.15499225, -0.2683272 ,  0.22103915,  0.08937383,  0.17880234],\n",
       "        [ 0.3247845 , -0.01797518,  0.1438292 ,  0.08016384,  0.253723  ,\n",
       "         -0.02953821,  0.19276938, -0.20980392,  0.28739855, -0.08302063],\n",
       "        [-0.24991049,  0.3272241 ,  0.3379462 , -0.1520821 ,  0.34365508,\n",
       "         -0.11092353, -0.36624068, -0.03605756,  0.06526327, -0.2770615 ],\n",
       "        [-0.22761823,  0.17754355, -0.25045216, -0.07075921,  0.22643366,\n",
       "         -0.10062858, -0.37440568,  0.01333115,  0.1529651 ,  0.36044404],\n",
       "        [-0.19015768, -0.10641351,  0.03326243, -0.33343396, -0.08704537,\n",
       "         -0.05538139, -0.15163521,  0.14361861, -0.16717912, -0.33170512],\n",
       "        [-0.13410674, -0.20757107, -0.13270034,  0.321223  , -0.26161087,\n",
       "          0.17091253, -0.26176694,  0.25683257,  0.21487018,  0.37367585],\n",
       "        [ 0.28096738,  0.34580097,  0.24988434, -0.23414716,  0.20425436,\n",
       "         -0.2176658 , -0.32955077,  0.26188508,  0.02468386, -0.13944788],\n",
       "        [ 0.34685412, -0.00915915,  0.33051684,  0.02131703,  0.12786338,\n",
       "          0.08788633, -0.35686198,  0.30762705, -0.37576354, -0.14657155],\n",
       "        [ 0.29889062, -0.37592086, -0.23010637, -0.3694761 ,  0.29532745,\n",
       "          0.02071464, -0.22261548,  0.26805356,  0.30340496,  0.21431008],\n",
       "        [ 0.29305395, -0.3002575 ,  0.1455501 , -0.22333053, -0.13893035,\n",
       "          0.00237802,  0.17389861, -0.25994816, -0.01242021, -0.05182126],\n",
       "        [-0.05617231, -0.28261665, -0.24063319, -0.10656402, -0.22277147,\n",
       "         -0.11391422,  0.04132941,  0.04123688,  0.02666989,  0.11109918],\n",
       "        [-0.13791   , -0.16551588, -0.00341523, -0.1797025 , -0.11932313,\n",
       "         -0.25342816,  0.17052767, -0.03495234, -0.3453586 , -0.15190926],\n",
       "        [ 0.06007496, -0.20422515, -0.33076343,  0.29796115,  0.18095651,\n",
       "         -0.17090605,  0.30938157,  0.27649567, -0.10149169,  0.21379688],\n",
       "        [ 0.16190162, -0.11044845, -0.1457043 , -0.29893652,  0.25125208,\n",
       "          0.28127387,  0.18953177, -0.11115244,  0.13730255,  0.17141709],\n",
       "        [-0.30388016,  0.15773258, -0.28568402, -0.33606303, -0.28552598,\n",
       "         -0.02745262, -0.02913809,  0.21075144, -0.34034956, -0.10029364],\n",
       "        [ 0.11548087, -0.02191621, -0.02072021,  0.37596628,  0.20079479,\n",
       "          0.23383805, -0.21343261,  0.15963581,  0.30630448,  0.03517842],\n",
       "        [-0.06183642,  0.13769111,  0.3538564 ,  0.05344629,  0.14837065,\n",
       "         -0.2674713 , -0.11030996,  0.02209526,  0.10672975,  0.057495  ]],\n",
       "       dtype=float32),\n",
       " array([0., 0., 0., 0., 0., 0., 0., 0., 0., 0.], dtype=float32)]"
      ]
     },
     "execution_count": 2,
     "metadata": {},
     "output_type": "execute_result"
    }
   ],
   "source": [
    "m1 = Sequential()\n",
    "m1.add(Dense(units=32, activation='relu', input_dim=784))\n",
    "m1.add(Dense(units=10, activation='softmax'))\n",
    "\n",
    "m1.get_weights()\n",
    "\n",
    "m2 = Sequential()\n",
    "m2.add(Dense(units=32, activation='relu', input_dim=784))\n",
    "m2.add(Dense(units=10, activation='softmax'))\n",
    "\n",
    "m2.get_weights()"
   ]
  },
  {
   "cell_type": "code",
   "execution_count": 3,
   "metadata": {},
   "outputs": [
    {
     "name": "stdout",
     "output_type": "stream",
     "text": [
      "(784, 32)\n",
      "(32,)\n",
      "(32, 10)\n",
      "(10,)\n"
     ]
    },
    {
     "data": {
      "text/plain": [
       "array([[-0.04278383, -0.07689586,  0.02326798, ..., -0.10106772,\n",
       "         0.01831246,  0.00366741],\n",
       "       [-0.05319307,  0.0883598 , -0.08007868, ...,  0.0550584 ,\n",
       "         0.0628425 , -0.08216938],\n",
       "       [-0.0430998 ,  0.02569816, -0.05039059, ..., -0.03888798,\n",
       "        -0.1050312 ,  0.07908993],\n",
       "       ...,\n",
       "       [-0.1399771 , -0.05415047, -0.06020232, ...,  0.01563308,\n",
       "        -0.02424748, -0.04448526],\n",
       "       [-0.02321382,  0.06953295,  0.00206159, ...,  0.08181629,\n",
       "        -0.00843719,  0.02142394],\n",
       "       [ 0.05056055, -0.02177432,  0.06691575, ...,  0.08394525,\n",
       "        -0.07733964, -0.01135356]], dtype=float32)"
      ]
     },
     "execution_count": 3,
     "metadata": {},
     "output_type": "execute_result"
    }
   ],
   "source": [
    "print(m1.get_weights()[0].shape)\n",
    "print(m1.get_weights()[1].shape)\n",
    "print(m1.get_weights()[2].shape)\n",
    "print(m1.get_weights()[3].shape)\n",
    "    \n",
    "m1.get_weights()[0] + m2.get_weights()[0]\n",
    "\n",
    "\n",
    "# print(m1.get_weights()[0].shape)\n",
    "# print(m1.get_weights()[1].shape)"
   ]
  },
  {
   "cell_type": "code",
   "execution_count": 4,
   "metadata": {},
   "outputs": [
    {
     "data": {
      "text/plain": [
       "array([[-0.04278383, -0.07689586,  0.02326798, ..., -0.10106772,\n",
       "         0.01831246,  0.00366741],\n",
       "       [-0.05319307,  0.0883598 , -0.08007868, ...,  0.0550584 ,\n",
       "         0.0628425 , -0.08216938],\n",
       "       [-0.0430998 ,  0.02569816, -0.05039059, ..., -0.03888798,\n",
       "        -0.1050312 ,  0.07908993],\n",
       "       ...,\n",
       "       [-0.1399771 , -0.05415047, -0.06020232, ...,  0.01563308,\n",
       "        -0.02424748, -0.04448526],\n",
       "       [-0.02321382,  0.06953295,  0.00206159, ...,  0.08181629,\n",
       "        -0.00843719,  0.02142394],\n",
       "       [ 0.05056055, -0.02177432,  0.06691575, ...,  0.08394525,\n",
       "        -0.07733964, -0.01135356]], dtype=float32)"
      ]
     },
     "execution_count": 4,
     "metadata": {},
     "output_type": "execute_result"
    }
   ],
   "source": [
    "np.sum([m1.get_weights()[0], m2.get_weights()[0]], axis=0)"
   ]
  },
  {
   "cell_type": "code",
   "execution_count": 12,
   "metadata": {},
   "outputs": [
    {
     "name": "stdout",
     "output_type": "stream",
     "text": [
      "(1, 6, 11)\n",
      "18\n",
      "(2, 7, 12)\n",
      "21\n",
      "(3, 8, 13)\n",
      "24\n",
      "(4, 9, 14)\n",
      "27\n",
      "(5, 10, 15)\n",
      "30\n"
     ]
    }
   ],
   "source": [
    "v1 = [1,2,3,4,5]\n",
    "v2 = [6,7,8,9,10]\n",
    "v3 = [11,12,13,14,15]\n",
    "v = [v1,v2,v3]\n",
    "\n",
    "for z in zip(*v):\n",
    "    print(z)\n",
    "    print(np.sum(z,axis=0))"
   ]
  },
  {
   "cell_type": "code",
   "execution_count": 54,
   "metadata": {},
   "outputs": [
    {
     "data": {
      "text/plain": [
       "[1, 2, 4, 3, 5]"
      ]
     },
     "execution_count": 54,
     "metadata": {},
     "output_type": "execute_result"
    }
   ],
   "source": [
    "sample_len = random.randint(1, len(v1))\n",
    "random.sample(v1,sample_len)"
   ]
  },
  {
   "cell_type": "code",
   "execution_count": 1,
   "metadata": {},
   "outputs": [
    {
     "name": "stdout",
     "output_type": "stream",
     "text": [
      "GPU encontrada\n",
      "[PhysicalDevice(name='/physical_device:CPU:0', device_type='CPU'), PhysicalDevice(name='/physical_device:GPU:0', device_type='GPU')]\n",
      "Olá\n",
      "Tue Nov 21 14:19:01 2023       \n",
      "+---------------------------------------------------------------------------------------+\n",
      "| NVIDIA-SMI 531.29                 Driver Version: 531.29       CUDA Version: 12.1     |\n",
      "|-----------------------------------------+----------------------+----------------------+\n",
      "| GPU  Name                      TCC/WDDM | Bus-Id        Disp.A | Volatile Uncorr. ECC |\n",
      "| Fan  Temp  Perf            Pwr:Usage/Cap|         Memory-Usage | GPU-Util  Compute M. |\n",
      "|                                         |                      |               MIG M. |\n",
      "|=========================================+======================+======================|\n",
      "|   0  NVIDIA GeForce GTX 1070       WDDM | 00000000:01:00.0  On |                  N/A |\n",
      "| N/A   50C    P2               35W /  N/A|    696MiB /  8192MiB |      3%      Default |\n",
      "|                                         |                      |                  N/A |\n",
      "+-----------------------------------------+----------------------+----------------------+\n",
      "                                                                                         \n",
      "+---------------------------------------------------------------------------------------+\n",
      "| Processes:                                                                            |\n",
      "|  GPU   GI   CI        PID   Type   Process name                            GPU Memory |\n",
      "|        ID   ID                                                             Usage      |\n",
      "|=======================================================================================|\n",
      "|    0   N/A  N/A      9740    C+G   ...nt.CBS_cw5n1h2txyewy\\SearchHost.exe    N/A      |\n",
      "|    0   N/A  N/A     10804    C+G   C:\\Windows\\explorer.exe                   N/A      |\n",
      "|    0   N/A  N/A     19112    C+G   ...siveControlPanel\\SystemSettings.exe    N/A      |\n",
      "|    0   N/A  N/A     26208    C+G   ...2txyewy\\StartMenuExperienceHost.exe    N/A      |\n",
      "|    0   N/A  N/A     30412    C+G   ...cal\\Microsoft\\OneDrive\\OneDrive.exe    N/A      |\n",
      "|    0   N/A  N/A     32532    C+G   ...on\\119.0.2151.72\\msedgewebview2.exe    N/A      |\n",
      "|    0   N/A  N/A     32848    C+G   ...Programs\\Microsoft VS Code\\Code.exe    N/A      |\n",
      "|    0   N/A  N/A     39604    C+G   ...on\\119.0.2151.58\\msedgewebview2.exe    N/A      |\n",
      "|    0   N/A  N/A     47704    C+G   ...1.0_x64__8wekyb3d8bbwe\\Video.UI.exe    N/A      |\n",
      "|    0   N/A  N/A     48736    C+G   ...t.LockApp_cw5n1h2txyewy\\LockApp.exe    N/A      |\n",
      "|    0   N/A  N/A     53332    C+G   ...12.0_x64__8wekyb3d8bbwe\\GameBar.exe    N/A      |\n",
      "|    0   N/A  N/A     56616      C   ...as\\anaconda3\\envs\\gpuenv\\python.exe    N/A      |\n",
      "|    0   N/A  N/A     58984    C+G   ...oogle\\Chrome\\Application\\chrome.exe    N/A      |\n",
      "|    0   N/A  N/A     60912    C+G   ...crosoft\\Edge\\Application\\msedge.exe    N/A      |\n",
      "|    0   N/A  N/A     64828    C+G   ...ekyb3d8bbwe\\PhoneExperienceHost.exe    N/A      |\n",
      "+---------------------------------------------------------------------------------------+\n"
     ]
    }
   ],
   "source": [
    "import tensorflow as tf\n",
    "if tf.test.gpu_device_name():\n",
    "    print('GPU encontrada')\n",
    "else:\n",
    "    print(\"GPU não encontrada\")\n",
    "    \n",
    "# Configuração do uso da GPU\n",
    "physical_devices = tf.config.experimental.list_physical_devices()\n",
    "print(physical_devices)\n",
    "with tf.device('/GPU:0'):\n",
    "    print(\"Olá\")\n",
    "\n",
    "!nvidia-smi"
   ]
  }
 ],
 "metadata": {
  "kernelspec": {
   "display_name": "fedenv",
   "language": "python",
   "name": "python3"
  },
  "language_info": {
   "codemirror_mode": {
    "name": "ipython",
    "version": 3
   },
   "file_extension": ".py",
   "mimetype": "text/x-python",
   "name": "python",
   "nbconvert_exporter": "python",
   "pygments_lexer": "ipython3",
   "version": "3.11.0"
  }
 },
 "nbformat": 4,
 "nbformat_minor": 2
}
